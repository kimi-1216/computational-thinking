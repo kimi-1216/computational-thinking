{
  "nbformat": 4,
  "nbformat_minor": 0,
  "metadata": {
    "colab": {
      "name": "week12.ipynb",
      "provenance": [],
      "authorship_tag": "ABX9TyN6FiwlFvg3GZPtFHHDWoiH",
      "include_colab_link": true
    },
    "kernelspec": {
      "name": "python3",
      "display_name": "Python 3"
    }
  },
  "cells": [
    {
      "cell_type": "markdown",
      "metadata": {
        "id": "view-in-github",
        "colab_type": "text"
      },
      "source": [
        "<a href=\"https://colab.research.google.com/github/kimi-1216/computational-thinking/blob/master/week12.ipynb\" target=\"_parent\"><img src=\"https://colab.research.google.com/assets/colab-badge.svg\" alt=\"Open In Colab\"/></a>"
      ]
    },
    {
      "cell_type": "code",
      "metadata": {
        "colab": {
          "base_uri": "https://localhost:8080/",
          "height": 250
        },
        "id": "M2i_V_QlnGgR",
        "outputId": "c053fe70-dc86-417c-f6f6-d112c79b6135"
      },
      "source": [
        "hello1=\"Hello world\"\n",
        "hello2='Hello python'\n",
        "hello3=\"shaquile O'Neil\"\n",
        "\n",
        "s1=\"123\"\n",
        "s2=\"456\"\n",
        "s3=s1+s2\n",
        "print(s3)\n",
        "s4=s1*s2\n",
        "print(s4)\n",
        "\n",
        "s1='An apple a day'\n",
        "s1.capitalize()\n",
        "s1.title()\n",
        "s1.swapcase()\n",
        "s1.upper()\n",
        "s1.lower()\n",
        "\n",
        "numberlist=[1,2,3,4,5]\n",
        "charlist=[\"1\",\"2\",\"3\",\"4\",\"5\"]\n",
        "mixlist=[1,\"2\",3,\"4\",5]\n",
        "\n",
        "favorite=[6,\"cat\",\"soccer\",]\n",
        "\n",
        "season=\"1995-1996\"\n",
        "team=\"chicago Bulls\"\n",
        "coach=\"Phil Jackson\"\n",
        "records=[72,10]\n",
        "starting_lineup=[\"Ron Harper\",\"Michael Jordan\",\"scottie\"]\n",
        "\"pippen\",\"Dennis Roman\",\"Luc Longley\"\n",
        "won_championship=True\n",
        "\n",
        "best_chicago_Bulls=list((season, team, coach, records,starting_lineup, won_championship))\n",
        "print(best_chicago_bulls)\n",
        "print(type(best_chicago_bulls))\n",
        "# indexing 索引\n",
        "print(best_chicago_bulls[0])\n",
        "print(best_chicago_bulls[-1])\n",
        "# slicing 切片\n",
        "print(best_chicago_bulls[1:4])\n",
        "print(best_chicago_bulls[::-1])"
      ],
      "execution_count": null,
      "outputs": [
        {
          "output_type": "stream",
          "text": [
            "123456\n"
          ],
          "name": "stdout"
        },
        {
          "output_type": "error",
          "ename": "TypeError",
          "evalue": "ignored",
          "traceback": [
            "\u001b[0;31m---------------------------------------------------------------------------\u001b[0m",
            "\u001b[0;31mTypeError\u001b[0m                                 Traceback (most recent call last)",
            "\u001b[0;32m<ipython-input-6-2a90078d9f0f>\u001b[0m in \u001b[0;36m<module>\u001b[0;34m()\u001b[0m\n\u001b[1;32m      7\u001b[0m \u001b[0ms3\u001b[0m\u001b[0;34m=\u001b[0m\u001b[0ms1\u001b[0m\u001b[0;34m+\u001b[0m\u001b[0ms2\u001b[0m\u001b[0;34m\u001b[0m\u001b[0;34m\u001b[0m\u001b[0m\n\u001b[1;32m      8\u001b[0m \u001b[0mprint\u001b[0m\u001b[0;34m(\u001b[0m\u001b[0ms3\u001b[0m\u001b[0;34m)\u001b[0m\u001b[0;34m\u001b[0m\u001b[0;34m\u001b[0m\u001b[0m\n\u001b[0;32m----> 9\u001b[0;31m \u001b[0ms4\u001b[0m\u001b[0;34m=\u001b[0m\u001b[0ms1\u001b[0m\u001b[0;34m*\u001b[0m\u001b[0ms2\u001b[0m\u001b[0;34m\u001b[0m\u001b[0;34m\u001b[0m\u001b[0m\n\u001b[0m\u001b[1;32m     10\u001b[0m \u001b[0mprint\u001b[0m\u001b[0;34m(\u001b[0m\u001b[0ms4\u001b[0m\u001b[0;34m)\u001b[0m\u001b[0;34m\u001b[0m\u001b[0;34m\u001b[0m\u001b[0m\n\u001b[1;32m     11\u001b[0m \u001b[0;34m\u001b[0m\u001b[0m\n",
            "\u001b[0;31mTypeError\u001b[0m: can't multiply sequence by non-int of type 'str'"
          ]
        }
      ]
    },
    {
      "cell_type": "code",
      "metadata": {
        "id": "yQhsw53_oCsF"
      },
      "source": [
        ""
      ],
      "execution_count": null,
      "outputs": []
    }
  ]
}
{
  "nbformat": 4,
  "nbformat_minor": 0,
  "metadata": {
    "colab": {
      "name": "week8.ipynb",
      "provenance": [],
      "collapsed_sections": [],
      "authorship_tag": "ABX9TyNOwsuN2FC4tTdw2dwHXkNA",
      "include_colab_link": true
    },
    "kernelspec": {
      "name": "python3",
      "display_name": "Python 3"
    }
  },
  "cells": [
    {
      "cell_type": "markdown",
      "metadata": {
        "id": "view-in-github",
        "colab_type": "text"
      },
      "source": [
        "<a href=\"https://colab.research.google.com/github/kimi-1216/computational-thinking/blob/master/week8.ipynb\" target=\"_parent\"><img src=\"https://colab.research.google.com/assets/colab-badge.svg\" alt=\"Open In Colab\"/></a>"
      ]
    },
    {
      "cell_type": "markdown",
      "metadata": {
        "id": "UpzCABypUmN3"
      },
      "source": [
        "第一題"
      ]
    },
    {
      "cell_type": "code",
      "metadata": {
        "id": "gkKB3IqBW4Dw",
        "outputId": "1cc532c1-afb6-4179-f7cc-c4f686c20aab",
        "colab": {
          "base_uri": "https://localhost:8080/"
        }
      },
      "source": [
        "cloth=int(input(10))\n",
        "trousers=int(input(10))\n",
        "vest=int(input(10))\n",
        "\n",
        "total=cloth*300+trousers*350+vest*400\n",
        "\n",
        "print(10500,total)"
      ],
      "execution_count": 10,
      "outputs": [
        {
          "output_type": "stream",
          "text": [
            "1010\n",
            "1010\n",
            "1010\n",
            "10500 10500\n"
          ],
          "name": "stdout"
        }
      ]
    },
    {
      "cell_type": "markdown",
      "metadata": {
        "id": "qRs49D_gWXmg"
      },
      "source": [
        "第二題"
      ]
    },
    {
      "cell_type": "code",
      "metadata": {
        "id": "VTVBbsxQXkY0",
        "outputId": "b770b36d-41e8-44f3-831a-9fb1493f27ce",
        "colab": {
          "base_uri": "https://localhost:8080/"
        }
      },
      "source": [
        "cans=int(input(60))\n",
        "total=(cans//12)*200+(cans%12)*20\n",
        "print(1000,total)"
      ],
      "execution_count": 14,
      "outputs": [
        {
          "output_type": "stream",
          "text": [
            "6060\n",
            "1000 1000\n"
          ],
          "name": "stdout"
        }
      ]
    },
    {
      "cell_type": "markdown",
      "metadata": {
        "id": "Ak4_xUoDYI2u"
      },
      "source": [
        "第三題"
      ]
    },
    {
      "cell_type": "code",
      "metadata": {
        "id": "k5KJiqv1YNgw",
        "outputId": "db1937ce-ded9-4325-b999-5776e892ef36",
        "colab": {
          "base_uri": "https://localhost:8080/"
        }
      },
      "source": [
        "fir=int(input(75))\n",
        "sec=int(input(80))\n",
        "final=int(input(65))\n",
        "\n",
        "sum=fir+sec+final\n",
        "avg=sum/3\n",
        "print(sum,avg)"
      ],
      "execution_count": 15,
      "outputs": [
        {
          "output_type": "stream",
          "text": [
            "7575\n",
            "8080\n",
            "6565\n",
            "220 73.33333333333333\n"
          ],
          "name": "stdout"
        }
      ]
    }
  ]
}